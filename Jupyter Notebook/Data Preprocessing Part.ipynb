{
 "cells": [
  {
   "cell_type": "markdown",
   "id": "6af3564a",
   "metadata": {},
   "source": [
    "# Final Capstone Project"
   ]
  },
  {
   "cell_type": "code",
   "execution_count": 1,
   "id": "5104d1d0",
   "metadata": {},
   "outputs": [],
   "source": [
    "### Importing necessary libraries:\n",
    "import pandas as pd\n",
    "import numpy as np\n",
    "import seaborn as sns\n",
    "import requests\n",
    "import matplotlib.pyplot as plt\n",
    "import string\n",
    "import re\n",
    "from string import punctuation\n",
    "import warnings\n",
    "warnings.filterwarnings('ignore') "
   ]
  },
  {
   "cell_type": "markdown",
   "id": "40ec1d97",
   "metadata": {},
   "source": [
    "## Upload Train Dataset:"
   ]
  },
  {
   "cell_type": "code",
   "execution_count": 2,
   "id": "981401e8",
   "metadata": {},
   "outputs": [],
   "source": [
    "# Load the dataset\n",
    "train_data = pd.read_csv(r'C:\\Users\\HP\\Desktop\\Digi-crome\\Final_Capstone_Project\\Data\\train_data.csv')"
   ]
  },
  {
   "cell_type": "code",
   "execution_count": 3,
   "id": "2d02842e",
   "metadata": {},
   "outputs": [
    {
     "data": {
      "text/html": [
       "<div>\n",
       "<style scoped>\n",
       "    .dataframe tbody tr th:only-of-type {\n",
       "        vertical-align: middle;\n",
       "    }\n",
       "\n",
       "    .dataframe tbody tr th {\n",
       "        vertical-align: top;\n",
       "    }\n",
       "\n",
       "    .dataframe thead th {\n",
       "        text-align: right;\n",
       "    }\n",
       "</style>\n",
       "<table border=\"1\" class=\"dataframe\">\n",
       "  <thead>\n",
       "    <tr style=\"text-align: right;\">\n",
       "      <th></th>\n",
       "      <th>Name of the product</th>\n",
       "      <th>Product Brand</th>\n",
       "      <th>categories</th>\n",
       "      <th>primaryCategories</th>\n",
       "      <th>reviews.date</th>\n",
       "      <th>reviews.text</th>\n",
       "      <th>reviews.title</th>\n",
       "      <th>sentiment</th>\n",
       "    </tr>\n",
       "  </thead>\n",
       "  <tbody>\n",
       "    <tr>\n",
       "      <th>0</th>\n",
       "      <td>All-New Fire HD 8 Tablet, 8\" HD Display, Wi-Fi...</td>\n",
       "      <td>Amazon</td>\n",
       "      <td>Electronics,iPad &amp; Tablets,All Tablets,Fire Ta...</td>\n",
       "      <td>Electronics</td>\n",
       "      <td>2016-12-26T00:00:00.000Z</td>\n",
       "      <td>Purchased on Black FridayPros - Great Price (e...</td>\n",
       "      <td>Powerful tablet</td>\n",
       "      <td>Positive</td>\n",
       "    </tr>\n",
       "    <tr>\n",
       "      <th>1</th>\n",
       "      <td>Amazon - Echo Plus w/ Built-In Hub - Silver</td>\n",
       "      <td>Amazon</td>\n",
       "      <td>Amazon Echo,Smart Home,Networking,Home &amp; Tools...</td>\n",
       "      <td>Electronics,Hardware</td>\n",
       "      <td>2018-01-17T00:00:00.000Z</td>\n",
       "      <td>I purchased two Amazon in Echo Plus and two do...</td>\n",
       "      <td>Amazon Echo Plus AWESOME</td>\n",
       "      <td>Positive</td>\n",
       "    </tr>\n",
       "    <tr>\n",
       "      <th>2</th>\n",
       "      <td>Amazon Echo Show Alexa-enabled Bluetooth Speak...</td>\n",
       "      <td>Amazon</td>\n",
       "      <td>Amazon Echo,Virtual Assistant Speakers,Electro...</td>\n",
       "      <td>Electronics,Hardware</td>\n",
       "      <td>2017-12-20T00:00:00.000Z</td>\n",
       "      <td>Just an average Alexa option. Does show a few ...</td>\n",
       "      <td>Average</td>\n",
       "      <td>Neutral</td>\n",
       "    </tr>\n",
       "    <tr>\n",
       "      <th>3</th>\n",
       "      <td>Fire HD 10 Tablet, 10.1 HD Display, Wi-Fi, 16 ...</td>\n",
       "      <td>Amazon</td>\n",
       "      <td>eBook Readers,Fire Tablets,Electronics Feature...</td>\n",
       "      <td>Office Supplies,Electronics</td>\n",
       "      <td>2017-08-04T00:00:00.000Z</td>\n",
       "      <td>very good product. Exactly what I wanted, and ...</td>\n",
       "      <td>Greattttttt</td>\n",
       "      <td>Positive</td>\n",
       "    </tr>\n",
       "    <tr>\n",
       "      <th>4</th>\n",
       "      <td>Brand New Amazon Kindle Fire 16gb 7\" Ips Displ...</td>\n",
       "      <td>Amazon</td>\n",
       "      <td>Computers/Tablets &amp; Networking,Tablets &amp; eBook...</td>\n",
       "      <td>Electronics</td>\n",
       "      <td>2017-01-23T00:00:00.000Z</td>\n",
       "      <td>This is the 3rd one I've purchased. I've bough...</td>\n",
       "      <td>Very durable!</td>\n",
       "      <td>Positive</td>\n",
       "    </tr>\n",
       "  </tbody>\n",
       "</table>\n",
       "</div>"
      ],
      "text/plain": [
       "                                 Name of the product Product Brand  \\\n",
       "0  All-New Fire HD 8 Tablet, 8\" HD Display, Wi-Fi...        Amazon   \n",
       "1        Amazon - Echo Plus w/ Built-In Hub - Silver        Amazon   \n",
       "2  Amazon Echo Show Alexa-enabled Bluetooth Speak...        Amazon   \n",
       "3  Fire HD 10 Tablet, 10.1 HD Display, Wi-Fi, 16 ...        Amazon   \n",
       "4  Brand New Amazon Kindle Fire 16gb 7\" Ips Displ...        Amazon   \n",
       "\n",
       "                                          categories  \\\n",
       "0  Electronics,iPad & Tablets,All Tablets,Fire Ta...   \n",
       "1  Amazon Echo,Smart Home,Networking,Home & Tools...   \n",
       "2  Amazon Echo,Virtual Assistant Speakers,Electro...   \n",
       "3  eBook Readers,Fire Tablets,Electronics Feature...   \n",
       "4  Computers/Tablets & Networking,Tablets & eBook...   \n",
       "\n",
       "             primaryCategories              reviews.date  \\\n",
       "0                  Electronics  2016-12-26T00:00:00.000Z   \n",
       "1         Electronics,Hardware  2018-01-17T00:00:00.000Z   \n",
       "2         Electronics,Hardware  2017-12-20T00:00:00.000Z   \n",
       "3  Office Supplies,Electronics  2017-08-04T00:00:00.000Z   \n",
       "4                  Electronics  2017-01-23T00:00:00.000Z   \n",
       "\n",
       "                                        reviews.text  \\\n",
       "0  Purchased on Black FridayPros - Great Price (e...   \n",
       "1  I purchased two Amazon in Echo Plus and two do...   \n",
       "2  Just an average Alexa option. Does show a few ...   \n",
       "3  very good product. Exactly what I wanted, and ...   \n",
       "4  This is the 3rd one I've purchased. I've bough...   \n",
       "\n",
       "              reviews.title sentiment  \n",
       "0           Powerful tablet  Positive  \n",
       "1  Amazon Echo Plus AWESOME  Positive  \n",
       "2                   Average   Neutral  \n",
       "3               Greattttttt  Positive  \n",
       "4             Very durable!  Positive  "
      ]
     },
     "execution_count": 3,
     "metadata": {},
     "output_type": "execute_result"
    }
   ],
   "source": [
    "# Get the first few rows of the dataset\n",
    "train_data.head()"
   ]
  },
  {
   "cell_type": "code",
   "execution_count": 4,
   "id": "cf300664",
   "metadata": {},
   "outputs": [
    {
     "data": {
      "text/plain": [
       "(4000, 8)"
      ]
     },
     "execution_count": 4,
     "metadata": {},
     "output_type": "execute_result"
    }
   ],
   "source": [
    "train_data.shape"
   ]
  },
  {
   "cell_type": "code",
   "execution_count": 5,
   "id": "a2fc7101",
   "metadata": {},
   "outputs": [
    {
     "name": "stdout",
     "output_type": "stream",
     "text": [
      "Index(['Name of the product', 'Product Brand', 'categories',\n",
      "       'primaryCategories', 'reviews.date', 'reviews.text', 'reviews.title',\n",
      "       'sentiment'],\n",
      "      dtype='object')\n"
     ]
    }
   ],
   "source": [
    "# Get the Dataset features\n",
    "print(train_data.keys())"
   ]
  },
  {
   "cell_type": "code",
   "execution_count": 6,
   "id": "5ecd7f54",
   "metadata": {},
   "outputs": [
    {
     "name": "stdout",
     "output_type": "stream",
     "text": [
      "<class 'pandas.core.frame.DataFrame'>\n",
      "RangeIndex: 4000 entries, 0 to 3999\n",
      "Data columns (total 8 columns):\n",
      " #   Column               Non-Null Count  Dtype \n",
      "---  ------               --------------  ----- \n",
      " 0   Name of the product  4000 non-null   object\n",
      " 1   Product Brand        4000 non-null   object\n",
      " 2   categories           4000 non-null   object\n",
      " 3   primaryCategories    4000 non-null   object\n",
      " 4   reviews.date         4000 non-null   object\n",
      " 5   reviews.text         4000 non-null   object\n",
      " 6   reviews.title        3990 non-null   object\n",
      " 7   sentiment            4000 non-null   object\n",
      "dtypes: object(8)\n",
      "memory usage: 250.1+ KB\n"
     ]
    }
   ],
   "source": [
    "# Get a quick summary of the data (columns, missing values, etc.)\n",
    "train_data.info()"
   ]
  },
  {
   "cell_type": "code",
   "execution_count": 7,
   "id": "7407cade",
   "metadata": {},
   "outputs": [
    {
     "data": {
      "text/plain": [
       "Name of the product     0\n",
       "Product Brand           0\n",
       "categories              0\n",
       "primaryCategories       0\n",
       "reviews.date            0\n",
       "reviews.text            0\n",
       "reviews.title          10\n",
       "sentiment               0\n",
       "dtype: int64"
      ]
     },
     "execution_count": 7,
     "metadata": {},
     "output_type": "execute_result"
    }
   ],
   "source": [
    "# Count the number of missing values in each column\n",
    "train_data.isnull().sum()"
   ]
  },
  {
   "cell_type": "code",
   "execution_count": 8,
   "id": "456e1593",
   "metadata": {},
   "outputs": [
    {
     "data": {
      "text/plain": [
       "Name of the product    0\n",
       "Product Brand          0\n",
       "categories             0\n",
       "primaryCategories      0\n",
       "reviews.date           0\n",
       "reviews.text           0\n",
       "reviews.title          0\n",
       "sentiment              0\n",
       "dtype: int64"
      ]
     },
     "execution_count": 8,
     "metadata": {},
     "output_type": "execute_result"
    }
   ],
   "source": [
    "# Drop missing values of reviews.title column\n",
    "train_data = train_data.dropna(subset=['reviews.title'])\n",
    "\n",
    "# Check result\n",
    "train_data.isnull().sum()"
   ]
  },
  {
   "cell_type": "code",
   "execution_count": 9,
   "id": "aaee008f",
   "metadata": {},
   "outputs": [
    {
     "data": {
      "text/plain": [
       "58"
      ]
     },
     "execution_count": 9,
     "metadata": {},
     "output_type": "execute_result"
    }
   ],
   "source": [
    "# Check the duplicate values\n",
    "train_data.duplicated().sum()"
   ]
  },
  {
   "cell_type": "code",
   "execution_count": 10,
   "id": "8d475984",
   "metadata": {},
   "outputs": [
    {
     "data": {
      "text/plain": [
       "0"
      ]
     },
     "execution_count": 10,
     "metadata": {},
     "output_type": "execute_result"
    }
   ],
   "source": [
    "# Remove duplicates\n",
    "train_data = train_data.drop_duplicates()\n",
    "\n",
    "# Get the results\n",
    "train_data.duplicated().sum()"
   ]
  },
  {
   "cell_type": "markdown",
   "id": "84cbcb8a",
   "metadata": {},
   "source": [
    "## Upload Test Dataset:"
   ]
  },
  {
   "cell_type": "code",
   "execution_count": 11,
   "id": "70be2171",
   "metadata": {},
   "outputs": [],
   "source": [
    "# Load the dataset\n",
    "test_data = pd.read_csv(r'C:\\Users\\HP\\Desktop\\Digi-crome\\Final_Capstone_Project\\Data\\test_data.csv')"
   ]
  },
  {
   "cell_type": "code",
   "execution_count": 12,
   "id": "341c7460",
   "metadata": {},
   "outputs": [
    {
     "data": {
      "text/html": [
       "<div>\n",
       "<style scoped>\n",
       "    .dataframe tbody tr th:only-of-type {\n",
       "        vertical-align: middle;\n",
       "    }\n",
       "\n",
       "    .dataframe tbody tr th {\n",
       "        vertical-align: top;\n",
       "    }\n",
       "\n",
       "    .dataframe thead th {\n",
       "        text-align: right;\n",
       "    }\n",
       "</style>\n",
       "<table border=\"1\" class=\"dataframe\">\n",
       "  <thead>\n",
       "    <tr style=\"text-align: right;\">\n",
       "      <th></th>\n",
       "      <th>Name of the product</th>\n",
       "      <th>Product Brand</th>\n",
       "      <th>categories</th>\n",
       "      <th>primaryCategories</th>\n",
       "      <th>reviews.date</th>\n",
       "      <th>reviews.text</th>\n",
       "      <th>reviews.title</th>\n",
       "    </tr>\n",
       "  </thead>\n",
       "  <tbody>\n",
       "    <tr>\n",
       "      <th>0</th>\n",
       "      <td>Fire Tablet, 7 Display, Wi-Fi, 16 GB - Include...</td>\n",
       "      <td>Amazon</td>\n",
       "      <td>Fire Tablets,Computers/Tablets &amp; Networking,Ta...</td>\n",
       "      <td>Electronics</td>\n",
       "      <td>2016-05-23T00:00:00.000Z</td>\n",
       "      <td>Amazon kindle fire has a lot of free app and c...</td>\n",
       "      <td>very handy device</td>\n",
       "    </tr>\n",
       "    <tr>\n",
       "      <th>1</th>\n",
       "      <td>Amazon Echo Show Alexa-enabled Bluetooth Speak...</td>\n",
       "      <td>Amazon</td>\n",
       "      <td>Computers,Amazon Echo,Virtual Assistant Speake...</td>\n",
       "      <td>Electronics,Hardware</td>\n",
       "      <td>2018-01-02T00:00:00.000Z</td>\n",
       "      <td>The Echo Show is a great addition to the Amazo...</td>\n",
       "      <td>Another winner from Amazon</td>\n",
       "    </tr>\n",
       "    <tr>\n",
       "      <th>2</th>\n",
       "      <td>All-New Fire HD 8 Tablet, 8\" HD Display, Wi-Fi...</td>\n",
       "      <td>Amazon</td>\n",
       "      <td>Electronics,iPad &amp; Tablets,All Tablets,Fire Ta...</td>\n",
       "      <td>Electronics</td>\n",
       "      <td>2017-01-02T00:00:00.000Z</td>\n",
       "      <td>Great value from Best Buy. Bought at Christmas...</td>\n",
       "      <td>simple to use and reliable so far</td>\n",
       "    </tr>\n",
       "    <tr>\n",
       "      <th>3</th>\n",
       "      <td>Brand New Amazon Kindle Fire 16gb 7\" Ips Displ...</td>\n",
       "      <td>Amazon</td>\n",
       "      <td>Computers/Tablets &amp; Networking,Tablets &amp; eBook...</td>\n",
       "      <td>Electronics</td>\n",
       "      <td>2017-03-25T00:00:00.000Z</td>\n",
       "      <td>I use mine for email, Facebook ,games and to g...</td>\n",
       "      <td>Love it!!!</td>\n",
       "    </tr>\n",
       "    <tr>\n",
       "      <th>4</th>\n",
       "      <td>Amazon Echo Show Alexa-enabled Bluetooth Speak...</td>\n",
       "      <td>Amazon</td>\n",
       "      <td>Computers,Amazon Echo,Virtual Assistant Speake...</td>\n",
       "      <td>Electronics,Hardware</td>\n",
       "      <td>2017-11-15T00:00:00.000Z</td>\n",
       "      <td>This is a fantastic item &amp; the person I bought...</td>\n",
       "      <td>Fantastic!</td>\n",
       "    </tr>\n",
       "  </tbody>\n",
       "</table>\n",
       "</div>"
      ],
      "text/plain": [
       "                                 Name of the product Product Brand  \\\n",
       "0  Fire Tablet, 7 Display, Wi-Fi, 16 GB - Include...        Amazon   \n",
       "1  Amazon Echo Show Alexa-enabled Bluetooth Speak...        Amazon   \n",
       "2  All-New Fire HD 8 Tablet, 8\" HD Display, Wi-Fi...        Amazon   \n",
       "3  Brand New Amazon Kindle Fire 16gb 7\" Ips Displ...        Amazon   \n",
       "4  Amazon Echo Show Alexa-enabled Bluetooth Speak...        Amazon   \n",
       "\n",
       "                                          categories     primaryCategories  \\\n",
       "0  Fire Tablets,Computers/Tablets & Networking,Ta...           Electronics   \n",
       "1  Computers,Amazon Echo,Virtual Assistant Speake...  Electronics,Hardware   \n",
       "2  Electronics,iPad & Tablets,All Tablets,Fire Ta...           Electronics   \n",
       "3  Computers/Tablets & Networking,Tablets & eBook...           Electronics   \n",
       "4  Computers,Amazon Echo,Virtual Assistant Speake...  Electronics,Hardware   \n",
       "\n",
       "               reviews.date  \\\n",
       "0  2016-05-23T00:00:00.000Z   \n",
       "1  2018-01-02T00:00:00.000Z   \n",
       "2  2017-01-02T00:00:00.000Z   \n",
       "3  2017-03-25T00:00:00.000Z   \n",
       "4  2017-11-15T00:00:00.000Z   \n",
       "\n",
       "                                        reviews.text  \\\n",
       "0  Amazon kindle fire has a lot of free app and c...   \n",
       "1  The Echo Show is a great addition to the Amazo...   \n",
       "2  Great value from Best Buy. Bought at Christmas...   \n",
       "3  I use mine for email, Facebook ,games and to g...   \n",
       "4  This is a fantastic item & the person I bought...   \n",
       "\n",
       "                       reviews.title  \n",
       "0                  very handy device  \n",
       "1         Another winner from Amazon  \n",
       "2  simple to use and reliable so far  \n",
       "3                         Love it!!!  \n",
       "4                         Fantastic!  "
      ]
     },
     "execution_count": 12,
     "metadata": {},
     "output_type": "execute_result"
    }
   ],
   "source": [
    "# Get the first few rows of the dataset\n",
    "test_data.head()"
   ]
  },
  {
   "cell_type": "code",
   "execution_count": 13,
   "id": "e90b1b72",
   "metadata": {},
   "outputs": [
    {
     "data": {
      "text/plain": [
       "(1000, 7)"
      ]
     },
     "execution_count": 13,
     "metadata": {},
     "output_type": "execute_result"
    }
   ],
   "source": [
    "test_data.shape"
   ]
  },
  {
   "cell_type": "code",
   "execution_count": 14,
   "id": "92257b63",
   "metadata": {},
   "outputs": [
    {
     "name": "stdout",
     "output_type": "stream",
     "text": [
      "Index(['Name of the product', 'Product Brand', 'categories',\n",
      "       'primaryCategories', 'reviews.date', 'reviews.text', 'reviews.title'],\n",
      "      dtype='object')\n"
     ]
    }
   ],
   "source": [
    "# Get the Dataset features\n",
    "print(test_data.keys())"
   ]
  },
  {
   "cell_type": "code",
   "execution_count": 15,
   "id": "0c949cdf",
   "metadata": {},
   "outputs": [
    {
     "name": "stdout",
     "output_type": "stream",
     "text": [
      "<class 'pandas.core.frame.DataFrame'>\n",
      "RangeIndex: 1000 entries, 0 to 999\n",
      "Data columns (total 7 columns):\n",
      " #   Column               Non-Null Count  Dtype \n",
      "---  ------               --------------  ----- \n",
      " 0   Name of the product  1000 non-null   object\n",
      " 1   Product Brand        1000 non-null   object\n",
      " 2   categories           1000 non-null   object\n",
      " 3   primaryCategories    1000 non-null   object\n",
      " 4   reviews.date         1000 non-null   object\n",
      " 5   reviews.text         1000 non-null   object\n",
      " 6   reviews.title        997 non-null    object\n",
      "dtypes: object(7)\n",
      "memory usage: 54.8+ KB\n"
     ]
    }
   ],
   "source": [
    "# Get a quick summary of the data (columns, missing values, etc.)\n",
    "test_data.info()"
   ]
  },
  {
   "cell_type": "code",
   "execution_count": 16,
   "id": "805cb116",
   "metadata": {},
   "outputs": [
    {
     "data": {
      "text/plain": [
       "Name of the product    0\n",
       "Product Brand          0\n",
       "categories             0\n",
       "primaryCategories      0\n",
       "reviews.date           0\n",
       "reviews.text           0\n",
       "reviews.title          3\n",
       "dtype: int64"
      ]
     },
     "execution_count": 16,
     "metadata": {},
     "output_type": "execute_result"
    }
   ],
   "source": [
    "# Count the number of missing values in each column\n",
    "test_data.isnull().sum()"
   ]
  },
  {
   "cell_type": "code",
   "execution_count": 17,
   "id": "6d1509ed",
   "metadata": {},
   "outputs": [
    {
     "data": {
      "text/plain": [
       "Name of the product    0\n",
       "Product Brand          0\n",
       "categories             0\n",
       "primaryCategories      0\n",
       "reviews.date           0\n",
       "reviews.text           0\n",
       "reviews.title          0\n",
       "dtype: int64"
      ]
     },
     "execution_count": 17,
     "metadata": {},
     "output_type": "execute_result"
    }
   ],
   "source": [
    "# Drop missing values of reviews.title column\n",
    "test_data = test_data.dropna(subset=['reviews.title'])\n",
    "\n",
    "# Check result\n",
    "test_data.isnull().sum()"
   ]
  },
  {
   "cell_type": "code",
   "execution_count": 18,
   "id": "d364fa3d",
   "metadata": {},
   "outputs": [
    {
     "data": {
      "text/plain": [
       "3"
      ]
     },
     "execution_count": 18,
     "metadata": {},
     "output_type": "execute_result"
    }
   ],
   "source": [
    "# Check the duplicate values\n",
    "test_data.duplicated().sum()"
   ]
  },
  {
   "cell_type": "code",
   "execution_count": 19,
   "id": "2554162e",
   "metadata": {},
   "outputs": [
    {
     "data": {
      "text/plain": [
       "0"
      ]
     },
     "execution_count": 19,
     "metadata": {},
     "output_type": "execute_result"
    }
   ],
   "source": [
    "# Remove duplicates\n",
    "test_data = test_data.drop_duplicates()\n",
    "\n",
    "# Get the results\n",
    "test_data.duplicated().sum()"
   ]
  },
  {
   "cell_type": "markdown",
   "id": "8157f398",
   "metadata": {},
   "source": [
    "## Upload Test Hidden Dataset"
   ]
  },
  {
   "cell_type": "code",
   "execution_count": 20,
   "id": "06fed161",
   "metadata": {},
   "outputs": [],
   "source": [
    "# Load the dataset\n",
    "test_hidden_data = pd.read_csv(r'C:\\Users\\HP\\Desktop\\Digi-crome\\Final_Capstone_Project\\Data\\test_data_hidden.csv')"
   ]
  },
  {
   "cell_type": "code",
   "execution_count": 21,
   "id": "afbf79c5",
   "metadata": {},
   "outputs": [
    {
     "data": {
      "text/html": [
       "<div>\n",
       "<style scoped>\n",
       "    .dataframe tbody tr th:only-of-type {\n",
       "        vertical-align: middle;\n",
       "    }\n",
       "\n",
       "    .dataframe tbody tr th {\n",
       "        vertical-align: top;\n",
       "    }\n",
       "\n",
       "    .dataframe thead th {\n",
       "        text-align: right;\n",
       "    }\n",
       "</style>\n",
       "<table border=\"1\" class=\"dataframe\">\n",
       "  <thead>\n",
       "    <tr style=\"text-align: right;\">\n",
       "      <th></th>\n",
       "      <th>Name of the product</th>\n",
       "      <th>Product Brand</th>\n",
       "      <th>categories</th>\n",
       "      <th>primaryCategories</th>\n",
       "      <th>reviews.date</th>\n",
       "      <th>reviews.text</th>\n",
       "      <th>reviews.title</th>\n",
       "      <th>sentiment</th>\n",
       "    </tr>\n",
       "  </thead>\n",
       "  <tbody>\n",
       "    <tr>\n",
       "      <th>0</th>\n",
       "      <td>Fire Tablet, 7 Display, Wi-Fi, 16 GB - Include...</td>\n",
       "      <td>Amazon</td>\n",
       "      <td>Fire Tablets,Computers/Tablets &amp; Networking,Ta...</td>\n",
       "      <td>Electronics</td>\n",
       "      <td>2016-05-23T00:00:00.000Z</td>\n",
       "      <td>Amazon kindle fire has a lot of free app and c...</td>\n",
       "      <td>very handy device</td>\n",
       "      <td>Positive</td>\n",
       "    </tr>\n",
       "    <tr>\n",
       "      <th>1</th>\n",
       "      <td>Amazon Echo Show Alexa-enabled Bluetooth Speak...</td>\n",
       "      <td>Amazon</td>\n",
       "      <td>Computers,Amazon Echo,Virtual Assistant Speake...</td>\n",
       "      <td>Electronics,Hardware</td>\n",
       "      <td>2018-01-02T00:00:00.000Z</td>\n",
       "      <td>The Echo Show is a great addition to the Amazo...</td>\n",
       "      <td>Another winner from Amazon</td>\n",
       "      <td>Positive</td>\n",
       "    </tr>\n",
       "    <tr>\n",
       "      <th>2</th>\n",
       "      <td>All-New Fire HD 8 Tablet, 8\" HD Display, Wi-Fi...</td>\n",
       "      <td>Amazon</td>\n",
       "      <td>Electronics,iPad &amp; Tablets,All Tablets,Fire Ta...</td>\n",
       "      <td>Electronics</td>\n",
       "      <td>2017-01-02T00:00:00.000Z</td>\n",
       "      <td>Great value from Best Buy. Bought at Christmas...</td>\n",
       "      <td>simple to use and reliable so far</td>\n",
       "      <td>Positive</td>\n",
       "    </tr>\n",
       "    <tr>\n",
       "      <th>3</th>\n",
       "      <td>Brand New Amazon Kindle Fire 16gb 7\" Ips Displ...</td>\n",
       "      <td>Amazon</td>\n",
       "      <td>Computers/Tablets &amp; Networking,Tablets &amp; eBook...</td>\n",
       "      <td>Electronics</td>\n",
       "      <td>2017-03-25T00:00:00.000Z</td>\n",
       "      <td>I use mine for email, Facebook ,games and to g...</td>\n",
       "      <td>Love it!!!</td>\n",
       "      <td>Positive</td>\n",
       "    </tr>\n",
       "    <tr>\n",
       "      <th>4</th>\n",
       "      <td>Amazon Echo Show Alexa-enabled Bluetooth Speak...</td>\n",
       "      <td>Amazon</td>\n",
       "      <td>Computers,Amazon Echo,Virtual Assistant Speake...</td>\n",
       "      <td>Electronics,Hardware</td>\n",
       "      <td>2017-11-15T00:00:00.000Z</td>\n",
       "      <td>This is a fantastic item &amp; the person I bought...</td>\n",
       "      <td>Fantastic!</td>\n",
       "      <td>Positive</td>\n",
       "    </tr>\n",
       "  </tbody>\n",
       "</table>\n",
       "</div>"
      ],
      "text/plain": [
       "                                 Name of the product Product Brand  \\\n",
       "0  Fire Tablet, 7 Display, Wi-Fi, 16 GB - Include...        Amazon   \n",
       "1  Amazon Echo Show Alexa-enabled Bluetooth Speak...        Amazon   \n",
       "2  All-New Fire HD 8 Tablet, 8\" HD Display, Wi-Fi...        Amazon   \n",
       "3  Brand New Amazon Kindle Fire 16gb 7\" Ips Displ...        Amazon   \n",
       "4  Amazon Echo Show Alexa-enabled Bluetooth Speak...        Amazon   \n",
       "\n",
       "                                          categories     primaryCategories  \\\n",
       "0  Fire Tablets,Computers/Tablets & Networking,Ta...           Electronics   \n",
       "1  Computers,Amazon Echo,Virtual Assistant Speake...  Electronics,Hardware   \n",
       "2  Electronics,iPad & Tablets,All Tablets,Fire Ta...           Electronics   \n",
       "3  Computers/Tablets & Networking,Tablets & eBook...           Electronics   \n",
       "4  Computers,Amazon Echo,Virtual Assistant Speake...  Electronics,Hardware   \n",
       "\n",
       "               reviews.date  \\\n",
       "0  2016-05-23T00:00:00.000Z   \n",
       "1  2018-01-02T00:00:00.000Z   \n",
       "2  2017-01-02T00:00:00.000Z   \n",
       "3  2017-03-25T00:00:00.000Z   \n",
       "4  2017-11-15T00:00:00.000Z   \n",
       "\n",
       "                                        reviews.text  \\\n",
       "0  Amazon kindle fire has a lot of free app and c...   \n",
       "1  The Echo Show is a great addition to the Amazo...   \n",
       "2  Great value from Best Buy. Bought at Christmas...   \n",
       "3  I use mine for email, Facebook ,games and to g...   \n",
       "4  This is a fantastic item & the person I bought...   \n",
       "\n",
       "                       reviews.title sentiment  \n",
       "0                  very handy device  Positive  \n",
       "1         Another winner from Amazon  Positive  \n",
       "2  simple to use and reliable so far  Positive  \n",
       "3                         Love it!!!  Positive  \n",
       "4                         Fantastic!  Positive  "
      ]
     },
     "execution_count": 21,
     "metadata": {},
     "output_type": "execute_result"
    }
   ],
   "source": [
    "# Get the first few rows of the dataset\n",
    "test_hidden_data.head()"
   ]
  },
  {
   "cell_type": "code",
   "execution_count": 22,
   "id": "e3633f5a",
   "metadata": {},
   "outputs": [
    {
     "data": {
      "text/plain": [
       "(1000, 8)"
      ]
     },
     "execution_count": 22,
     "metadata": {},
     "output_type": "execute_result"
    }
   ],
   "source": [
    "test_hidden_data.shape"
   ]
  },
  {
   "cell_type": "code",
   "execution_count": 23,
   "id": "200155ce",
   "metadata": {},
   "outputs": [
    {
     "name": "stdout",
     "output_type": "stream",
     "text": [
      "Index(['Name of the product', 'Product Brand', 'categories',\n",
      "       'primaryCategories', 'reviews.date', 'reviews.text', 'reviews.title',\n",
      "       'sentiment'],\n",
      "      dtype='object')\n"
     ]
    }
   ],
   "source": [
    "# Get the Dataset features\n",
    "print(test_hidden_data.keys())"
   ]
  },
  {
   "cell_type": "code",
   "execution_count": 24,
   "id": "7c8aefa4",
   "metadata": {},
   "outputs": [
    {
     "name": "stdout",
     "output_type": "stream",
     "text": [
      "<class 'pandas.core.frame.DataFrame'>\n",
      "RangeIndex: 1000 entries, 0 to 999\n",
      "Data columns (total 8 columns):\n",
      " #   Column               Non-Null Count  Dtype \n",
      "---  ------               --------------  ----- \n",
      " 0   Name of the product  1000 non-null   object\n",
      " 1   Product Brand        1000 non-null   object\n",
      " 2   categories           1000 non-null   object\n",
      " 3   primaryCategories    1000 non-null   object\n",
      " 4   reviews.date         1000 non-null   object\n",
      " 5   reviews.text         1000 non-null   object\n",
      " 6   reviews.title        997 non-null    object\n",
      " 7   sentiment            1000 non-null   object\n",
      "dtypes: object(8)\n",
      "memory usage: 62.6+ KB\n"
     ]
    }
   ],
   "source": [
    "# Get a quick summary of the data (columns, missing values, etc.)\n",
    "test_hidden_data.info()"
   ]
  },
  {
   "cell_type": "code",
   "execution_count": 25,
   "id": "37ad73a7",
   "metadata": {},
   "outputs": [
    {
     "data": {
      "text/plain": [
       "Name of the product    0\n",
       "Product Brand          0\n",
       "categories             0\n",
       "primaryCategories      0\n",
       "reviews.date           0\n",
       "reviews.text           0\n",
       "reviews.title          3\n",
       "sentiment              0\n",
       "dtype: int64"
      ]
     },
     "execution_count": 25,
     "metadata": {},
     "output_type": "execute_result"
    }
   ],
   "source": [
    "# Count the number of missing values in each column\n",
    "test_hidden_data.isnull().sum()"
   ]
  },
  {
   "cell_type": "code",
   "execution_count": 26,
   "id": "ca6ff151",
   "metadata": {},
   "outputs": [
    {
     "data": {
      "text/plain": [
       "Name of the product    0\n",
       "Product Brand          0\n",
       "categories             0\n",
       "primaryCategories      0\n",
       "reviews.date           0\n",
       "reviews.text           0\n",
       "reviews.title          0\n",
       "sentiment              0\n",
       "dtype: int64"
      ]
     },
     "execution_count": 26,
     "metadata": {},
     "output_type": "execute_result"
    }
   ],
   "source": [
    "# Drop missing values of reviews.title column\n",
    "test_hidden_data = test_hidden_data.dropna(subset=['reviews.title'])\n",
    "\n",
    "# Check result\n",
    "test_hidden_data.isnull().sum()"
   ]
  },
  {
   "cell_type": "code",
   "execution_count": 27,
   "id": "215f7842",
   "metadata": {},
   "outputs": [
    {
     "data": {
      "text/plain": [
       "3"
      ]
     },
     "execution_count": 27,
     "metadata": {},
     "output_type": "execute_result"
    }
   ],
   "source": [
    "# Check the duplicate values\n",
    "test_hidden_data.duplicated().sum()"
   ]
  },
  {
   "cell_type": "code",
   "execution_count": 28,
   "id": "36a28b1b",
   "metadata": {},
   "outputs": [
    {
     "data": {
      "text/plain": [
       "0"
      ]
     },
     "execution_count": 28,
     "metadata": {},
     "output_type": "execute_result"
    }
   ],
   "source": [
    "# Remove duplicates\n",
    "test_hidden_data = test_hidden_data.drop_duplicates()\n",
    "\n",
    "# Get the results\n",
    "test_hidden_data.duplicated().sum()"
   ]
  },
  {
   "cell_type": "markdown",
   "id": "1fa4d129",
   "metadata": {},
   "source": [
    "# Rename the column to avoid errors"
   ]
  },
  {
   "cell_type": "code",
   "execution_count": 29,
   "id": "dd38f8b2",
   "metadata": {},
   "outputs": [],
   "source": [
    "train_data.rename(columns = {'reviews.date':'reviews_date', 'reviews.text':'reviews_text','reviews.title':'reviews_title'}, inplace = True)\n",
    "test_data.rename(columns = {'reviews.date':'reviews_date', 'reviews.text':'reviews_text','reviews.title':'reviews_title'}, inplace = True)\n",
    "test_hidden_data.rename(columns = {'reviews.date':'reviews_date', 'reviews.text':'reviews_text','reviews.title':'reviews_title'}, inplace = True)"
   ]
  },
  {
   "cell_type": "markdown",
   "id": "76b99dbf",
   "metadata": {},
   "source": [
    "# Text Preprocessing"
   ]
  },
  {
   "cell_type": "code",
   "execution_count": 30,
   "id": "7067ea18",
   "metadata": {},
   "outputs": [],
   "source": [
    "import nltk\n",
    "from nltk.corpus import stopwords \n",
    "from nltk.tokenize import word_tokenize\n",
    "from nltk.stem import WordNetLemmatizer\n",
    "from wordcloud import WordCloud"
   ]
  },
  {
   "cell_type": "code",
   "execution_count": 31,
   "id": "2de7b396",
   "metadata": {},
   "outputs": [],
   "source": [
    "# Converting reviews to lower case\n",
    "for df in [train_data, test_hidden_data, test_data]:\n",
    "  df[\"reviews_text\"]= df[\"reviews_text\"].str.lower()\n",
    "\n",
    "# Removing punctuations and special characters \n",
    "for df in [train_data, test_hidden_data, test_data]:\n",
    "  df[\"reviews_text\"]= df[\"reviews_text\"].str.replace('[^\\w\\s]', \" \")\n",
    "\n",
    "# Removing digits \n",
    "for df in [train_data, test_hidden_data, test_data]:\n",
    "  df[\"reviews_text\"] = df[\"reviews_text\"].replace('\\d', \" \", regex = True)"
   ]
  },
  {
   "cell_type": "markdown",
   "id": "bf26d8fd",
   "metadata": {},
   "source": [
    "# Tokenization"
   ]
  },
  {
   "cell_type": "code",
   "execution_count": 32,
   "id": "52d95151",
   "metadata": {},
   "outputs": [
    {
     "name": "stderr",
     "output_type": "stream",
     "text": [
      "[nltk_data] Downloading package punkt to\n",
      "[nltk_data]     C:\\Users\\HP\\AppData\\Roaming\\nltk_data...\n",
      "[nltk_data]   Package punkt is already up-to-date!\n"
     ]
    }
   ],
   "source": [
    "# Tokenizing reviews \n",
    "nltk.download(\"punkt\")\n",
    "for df in [train_data, test_hidden_data, test_data]:\n",
    "  df[\"reviews_text\"] = df[\"reviews_text\"].apply(nltk.word_tokenize)"
   ]
  },
  {
   "cell_type": "code",
   "execution_count": 33,
   "id": "1c46c3af",
   "metadata": {},
   "outputs": [
    {
     "name": "stderr",
     "output_type": "stream",
     "text": [
      "[nltk_data] Downloading package stopwords to\n",
      "[nltk_data]     C:\\Users\\HP\\AppData\\Roaming\\nltk_data...\n",
      "[nltk_data]   Package stopwords is already up-to-date!\n"
     ]
    }
   ],
   "source": [
    "# Removing stop_words \n",
    "from nltk.corpus import stopwords \n",
    "nltk.download(\"stopwords\")\n",
    "stop = stopwords.words('english')\n",
    "for df in [train_data, test_hidden_data , test_data]:\n",
    "  df[\"reviews_text\"]= df[\"reviews_text\"].apply(lambda x: [word for word in x if word not in stop])"
   ]
  },
  {
   "cell_type": "code",
   "execution_count": 34,
   "id": "01e34dac",
   "metadata": {},
   "outputs": [
    {
     "name": "stderr",
     "output_type": "stream",
     "text": [
      "[nltk_data] Downloading package wordnet to\n",
      "[nltk_data]     C:\\Users\\HP\\AppData\\Roaming\\nltk_data...\n",
      "[nltk_data]   Package wordnet is already up-to-date!\n"
     ]
    }
   ],
   "source": [
    "# Lemmatization \n",
    "nltk.download('wordnet')\n",
    "def lemmatize_text(text):\n",
    "  lemmatizer = WordNetLemmatizer()\n",
    "  return [lemmatizer.lemmatize(w, 'v') for w in (text)]\n",
    "\n",
    "for df in [train_data, test_hidden_data, test_data]:\n",
    "  df[\"reviews_text\"] = df[\"reviews_text\"].apply (lemmatize_text)"
   ]
  },
  {
   "cell_type": "code",
   "execution_count": 35,
   "id": "2e0e9eff",
   "metadata": {},
   "outputs": [],
   "source": [
    "# Converting the lemmatized list to string \n",
    "for df in [train_data, test_hidden_data, test_data]:\n",
    "  df[\"reviews_text\"] = df[\"reviews_text\"].str.join(\" \")"
   ]
  },
  {
   "cell_type": "markdown",
   "id": "6a7c81f0",
   "metadata": {},
   "source": [
    "# Save the cleaned data into csv"
   ]
  },
  {
   "cell_type": "code",
   "execution_count": 36,
   "id": "eec1f76f",
   "metadata": {},
   "outputs": [],
   "source": [
    "train_data.to_csv(r'C:\\Users\\HP\\Desktop\\Digi-crome\\Final_Capstone_Project\\Data\\cleaned_train_data.csv', index=False)\n",
    "\n",
    "test_data.to_csv(r'C:\\Users\\HP\\Desktop\\Digi-crome\\Final_Capstone_Project\\Data\\cleaned_test_data.csv', index=False)\n",
    "\n",
    "test_hidden_data.to_csv(r'C:\\Users\\HP\\Desktop\\Digi-crome\\Final_Capstone_Project\\Data\\cleaned_test_hidden_data.csv', index=False)"
   ]
  }
 ],
 "metadata": {
  "kernelspec": {
   "display_name": "Python 3 (ipykernel)",
   "language": "python",
   "name": "python3"
  },
  "language_info": {
   "codemirror_mode": {
    "name": "ipython",
    "version": 3
   },
   "file_extension": ".py",
   "mimetype": "text/x-python",
   "name": "python",
   "nbconvert_exporter": "python",
   "pygments_lexer": "ipython3",
   "version": "3.11.5"
  }
 },
 "nbformat": 4,
 "nbformat_minor": 5
}
